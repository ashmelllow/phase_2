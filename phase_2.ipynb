{
  "nbformat": 4,
  "nbformat_minor": 0,
  "metadata": {
    "colab": {
      "provenance": [],
      "toc_visible": true,
      "authorship_tag": "ABX9TyNxRrEi3d+PA8fa2tCrFSJA",
      "include_colab_link": true
    },
    "kernelspec": {
      "name": "python3",
      "display_name": "Python 3"
    },
    "language_info": {
      "name": "python"
    }
  },
  "cells": [
    {
      "cell_type": "markdown",
      "metadata": {
        "id": "view-in-github",
        "colab_type": "text"
      },
      "source": [
        "<a href=\"https://colab.research.google.com/github/ashmelllow/phase_2/blob/main/phase_2.ipynb\" target=\"_parent\"><img src=\"https://colab.research.google.com/assets/colab-badge.svg\" alt=\"Open In Colab\"/></a>"
      ]
    },
    {
      "cell_type": "code",
      "source": [
        "import nltk\n",
        "from nltk.sentiment.vader import SentimentIntensityAnalyzer\n",
        "import re\n",
        "\n",
        "# Download VADER lexicon\n",
        "nltk.download('vader_lexicon')\n",
        "\n",
        "# Create analyzer\n",
        "analyzer = SentimentIntensityAnalyzer()\n",
        "\n",
        "# Emoji feedback mapping\n",
        "emoji_feedback = {\n",
        "    \"Positive\": \"😊 Keep spreading the positivity! 🌟\",\n",
        "    \"Negative\": \"😢 It's okay to feel down sometimes. Stay strong! 💪\",\n",
        "    \"Neutral\": \"😐 Thanks for sharing your thoughts! Every emotion is valid. 🌈\"\n",
        "}\n",
        "\n",
        "# Function to detect emojis in text\n",
        "def extract_emojis(text):\n",
        "    emoji_pattern = re.compile(\"[\\U0001F600-\\U0001F64F\"  # emoticons\n",
        "                                \"\\U0001F300-\\U0001F5FF\"  # symbols & pictographs\n",
        "                                \"\\U0001F680-\\U0001F6FF\"  # transport & map symbols\n",
        "                                \"\\U0001F700-\\U0001F77F\"  # alchemical symbols\n",
        "                                \"\\U0001F780-\\U0001F7FF\"  # Geometric Shapes Extended\n",
        "                                \"\\U0001F800-\\U0001F8FF\"  # Supplemental Arrows-C\n",
        "                                \"\\U0001F900-\\U0001F9FF\"  # Supplemental Symbols and Pictographs\n",
        "                                \"\\U0001FA00-\\U0001FA6F\"  # Chess Symbols\n",
        "                                \"\\U00002702-\\U000027B0\"  # Dingbats\n",
        "                                \"]+\", flags=re.UNICODE)\n",
        "    return emoji_pattern.findall(text)\n",
        "\n",
        "# Loop for user input\n",
        "while True:\n",
        "    text = input(\"Enter a sentence with emojis (or type 'exit' to quit): \")\n",
        "    if text.lower() == 'exit':\n",
        "        break\n",
        "\n",
        "    scores = analyzer.polarity_scores(text)\n",
        "    compound = scores['compound']\n",
        "\n",
        "    if compound >= 0.05:\n",
        "        sentiment = \"Positive\"\n",
        "    elif compound <= -0.05:\n",
        "        sentiment = \"Negative\"\n",
        "    else:\n",
        "        sentiment = \"Neutral\"\n",
        "\n",
        "    # Extract emojis\n",
        "    emojis = extract_emojis(text)\n",
        "\n",
        "    print(f\"\\nYour Input: {text}\")\n",
        "    print(f\"Sentiment: {sentiment}\")\n",
        "    print(\"Score Details:\", scores)\n",
        "\n",
        "    # Provide feedback based on sentiment\n",
        "    feedback = emoji_feedback[sentiment]\n",
        "    print(\"Feedback:\", feedback)\n",
        "\n",
        "    if emojis:\n",
        "        print(\"Detected Emojis:\", ' '.join(emojis))\n",
        "    else:\n",
        "        print(\"No emojis detected.\")\n",
        "\n",
        "    print(\"-\" * 40)\n"
      ],
      "metadata": {
        "colab": {
          "base_uri": "https://localhost:8080/"
        },
        "id": "jWhh7saTHhkY",
        "outputId": "f99cf808-8493-463f-fda7-608d4bd7b8db"
      },
      "execution_count": null,
      "outputs": [
        {
          "output_type": "stream",
          "name": "stderr",
          "text": [
            "[nltk_data] Downloading package vader_lexicon to /root/nltk_data...\n",
            "[nltk_data]   Package vader_lexicon is already up-to-date!\n"
          ]
        },
        {
          "output_type": "stream",
          "name": "stdout",
          "text": [
            "Enter a sentence with emojis (or type 'exit' to quit): nadhisha  is bald so she is crying\n",
            "\n",
            "Your Input: nadhisha  is bald so she is crying\n",
            "Sentiment: Negative\n",
            "Score Details: {'neg': 0.359, 'neu': 0.641, 'pos': 0.0, 'compound': -0.5209}\n",
            "Feedback: 😢 It's okay to feel down sometimes. Stay strong! 💪\n",
            "No emojis detected.\n",
            "----------------------------------------\n"
          ]
        }
      ]
    }
  ]
}