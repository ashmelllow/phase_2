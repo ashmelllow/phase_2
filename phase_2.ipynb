{
  "nbformat": 4,
  "nbformat_minor": 0,
  "metadata": {
    "colab": {
      "provenance": [],
      "authorship_tag": "ABX9TyNG7Nbs6YoE/FnPB54erlBO",
      "include_colab_link": true
    },
    "kernelspec": {
      "name": "python3",
      "display_name": "Python 3"
    },
    "language_info": {
      "name": "python"
    }
  },
  "cells": [
    {
      "cell_type": "markdown",
      "metadata": {
        "id": "view-in-github",
        "colab_type": "text"
      },
      "source": [
        "<a href=\"https://colab.research.google.com/github/ashmelllow/phase_2/blob/main/phase_2.ipynb\" target=\"_parent\"><img src=\"https://colab.research.google.com/assets/colab-badge.svg\" alt=\"Open In Colab\"/></a>"
      ]
    },
    {
      "cell_type": "code",
      "source": [
        "import nltk\n",
        "import re\n",
        "import gradio as gr\n",
        "from nltk.sentiment.vader import SentimentIntensityAnalyzer\n",
        "\n",
        "# Download VADER lexicon (only first time)\n",
        "nltk.download('vader_lexicon')\n",
        "\n",
        "# Initialize sentiment analyzer\n",
        "analyzer = SentimentIntensityAnalyzer()\n",
        "\n",
        "# Feedback and fun comment dictionary\n",
        "emoji_feedback = {\n",
        "    \"Positive\": (\n",
        "        \"😊 Keep spreading the positivity! 🌟\",\n",
        "        \"You're glowing like a lightbulb in a power surge! ⚡💡\"\n",
        "    ),\n",
        "    \"Negative\": (\n",
        "        \"😢 It's okay to feel down sometimes. Stay strong! 💪\",\n",
        "        \"Even superheroes have bad days. Cape up again tomorrow! 🦸‍♂️🖤\"\n",
        "    ),\n",
        "    \"Neutral\": (\n",
        "        \"😐 Thanks for sharing your thoughts! Every emotion is valid. 🌈\",\n",
        "        \"Balanced as all things should be... - Thanos 😌\"\n",
        "    )\n",
        "}\n",
        "\n",
        "# Emoji extraction function\n",
        "def extract_emojis(text):\n",
        "    emoji_pattern = re.compile(\n",
        "        \"[\\U0001F600-\\U0001F64F\"\n",
        "        \"\\U0001F300-\\U0001F5FF\"\n",
        "        \"\\U0001F680-\\U0001F6FF\"\n",
        "        \"\\U0001F700-\\U0001F77F\"\n",
        "        \"\\U0001F780-\\U0001F7FF\"\n",
        "        \"\\U0001F800-\\U0001F8FF\"\n",
        "        \"\\U0001F900-\\U0001F9FF\"\n",
        "        \"\\U0001FA00-\\U0001FA6F\"\n",
        "        \"\\U00002702-\\U000027B0\"\n",
        "        \"]+\", flags=re.UNICODE\n",
        "    )\n",
        "    return emoji_pattern.findall(text)\n",
        "\n",
        "# Main function\n",
        "def analyze_sentiment(text):\n",
        "    scores = analyzer.polarity_scores(text)\n",
        "    compound = scores['compound']\n",
        "\n",
        "    if compound >= 0.05:\n",
        "        sentiment = \"Positive\"\n",
        "    elif compound <= -0.05:\n",
        "        sentiment = \"Negative\"\n",
        "    else:\n",
        "        sentiment = \"Neutral\"\n",
        "\n",
        "    feedback, fun_comment = emoji_feedback[sentiment]\n",
        "    emojis = extract_emojis(text)\n",
        "    detected_emojis = ' '.join(emojis) if emojis else \"No emojis detected.\"\n",
        "\n",
        "    return sentiment, feedback, fun_comment, detected_emojis\n",
        "\n",
        "# Gradio interface\n",
        "interface = gr.Interface(\n",
        "    fn=analyze_sentiment,\n",
        "    inputs=gr.Textbox(lines=2, placeholder=\"Enter a sentence with emojis...\"),\n",
        "    outputs=[\n",
        "        gr.Textbox(label=\"Sentiment\"),\n",
        "        gr.Textbox(label=\"Motivational Feedback\"),\n",
        "        gr.Textbox(label=\"Funny/Relatable Comment\"),\n",
        "        gr.Textbox(label=\"Detected Emojis\")\n",
        "    ],\n",
        "    title=\"Emoji-Aware Sentiment Analyzer\",\n",
        "    description=\"Enter a sentence with emojis and get a positive vibe or a relatable laugh!\"\n",
        ")\n",
        "\n",
        "# Launch app\n",
        "interface.launch()\n"
      ],
      "metadata": {
        "id": "xaMgMRicMVyl",
        "outputId": "bee24c72-84fc-4830-8e3a-b2fc1e2f4206",
        "colab": {
          "base_uri": "https://localhost:8080/",
          "height": 680
        }
      },
      "execution_count": 4,
      "outputs": [
        {
          "output_type": "stream",
          "name": "stderr",
          "text": [
            "[nltk_data] Downloading package vader_lexicon to /root/nltk_data...\n",
            "[nltk_data]   Package vader_lexicon is already up-to-date!\n"
          ]
        },
        {
          "output_type": "stream",
          "name": "stdout",
          "text": [
            "It looks like you are running Gradio on a hosted a Jupyter notebook. For the Gradio app to work, sharing must be enabled. Automatically setting `share=True` (you can turn this off by setting `share=False` in `launch()` explicitly).\n",
            "\n",
            "Colab notebook detected. To show errors in colab notebook, set debug=True in launch()\n",
            "* Running on public URL: https://92d49d3f0f07f194e5.gradio.live\n",
            "\n",
            "This share link expires in 1 week. For free permanent hosting and GPU upgrades, run `gradio deploy` from the terminal in the working directory to deploy to Hugging Face Spaces (https://huggingface.co/spaces)\n"
          ]
        },
        {
          "output_type": "display_data",
          "data": {
            "text/plain": [
              "<IPython.core.display.HTML object>"
            ],
            "text/html": [
              "<div><iframe src=\"https://92d49d3f0f07f194e5.gradio.live\" width=\"100%\" height=\"500\" allow=\"autoplay; camera; microphone; clipboard-read; clipboard-write;\" frameborder=\"0\" allowfullscreen></iframe></div>"
            ]
          },
          "metadata": {}
        },
        {
          "output_type": "execute_result",
          "data": {
            "text/plain": []
          },
          "metadata": {},
          "execution_count": 4
        }
      ]
    }
  ]
}